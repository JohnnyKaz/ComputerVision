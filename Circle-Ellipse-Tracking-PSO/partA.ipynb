{
 "cells": [
  {
   "attachments": {},
   "cell_type": "markdown",
   "metadata": {},
   "source": [
    "# CS-472 Computer Vision\n",
    "## Assignment 05: Particle Swarm Optimization Tracking\n",
    "## By: <span style=\"color:orange\">Ioannis Kaziales</span> ~ csdp1305\n",
    "### Spring semester 2022-2023 (Due Date: 03/07/2023)\n",
    "\n",
    "This file contains the implementation for **part A** (using PSO to track a white circle in black background).\n",
    "It utilizes some useful classes and functions from file `utils.py`.\n",
    "\n",
    "If you want to see a visualization first, you can check the file `partA_demo.ipynb`"
   ]
  },
  {
   "cell_type": "code",
   "execution_count": 1,
   "metadata": {},
   "outputs": [],
   "source": [
    "import cv2\n",
    "import numpy as np\n",
    "import matplotlib.pyplot as plt\n",
    "from random import random\n",
    "from tqdm import tqdm\n",
    "\n",
    "from utils import *\n",
    "\n",
    "np.random.seed(42)"
   ]
  },
  {
   "cell_type": "code",
   "execution_count": 2,
   "metadata": {},
   "outputs": [],
   "source": [
    "# ~~~~~~~~~~~~~~~~~~ Some parameters about the dataset ~~~~~~~~~~~~~~~~~~\n",
    "SAVE_IMGS: bool = False         # whether to save images to disk. It will be slower if True\n",
    "SAVE_TXTS: bool = True          # whether to save the estimated parameters to txt files\n",
    "\n",
    "in_dir  = \"askisi5_dataset1\"    # input directory\n",
    "txt_dir = \"results/txt/partA\"   # output directory to store the txt files with the estimated parameters\n",
    "prefix  = \"dataset\"             # prefix of the input files\n",
    "start_frame, end_frame = 0, 600\n",
    "\n",
    "if not os.path.exists(txt_dir):\n",
    "    os.makedirs(txt_dir)\n",
    "\n",
    "if SAVE_IMGS:\n",
    "    out_dir = \"results/imgs/partA\"      # output directory to store the images with the circles overlaid\n",
    "    if not os.path.exists(out_dir):\n",
    "        os.makedirs(out_dir)"
   ]
  },
  {
   "attachments": {},
   "cell_type": "markdown",
   "metadata": {},
   "source": [
    "### 1st frame: Find the Parameters with no prior knowledge"
   ]
  },
  {
   "cell_type": "code",
   "execution_count": 3,
   "metadata": {},
   "outputs": [],
   "source": [
    "img = cv2.imread(os.path.join(in_dir, f\"{prefix}{start_frame}.png\"))\n",
    "img = cv2.cvtColor(img, cv2.COLOR_BGR2GRAY)\n",
    "y_max, x_max = img.shape[:2]\n",
    "max_radius = min(x_max, y_max) / 2"
   ]
  },
  {
   "cell_type": "code",
   "execution_count": 4,
   "metadata": {},
   "outputs": [
    {
     "data": {
      "image/png": "[encoded data removed]",
      "text/plain": [
       "<Figure size 640x480 with 1 Axes>"
      ]
     },
     "metadata": {},
     "output_type": "display_data"
    }
   ],
   "source": [
    "# PSO parameters for the first frame\n",
    "num_particles = 20\n",
    "max_iterations = 100\n",
    "stop_iterations = 10    # stop if no improvement after 15 iterations\n",
    "c1 = 2.0                # cognitive parameter\n",
    "c2 = 2.0                # social parameter\n",
    "w  = 0.7                # inertia weight\n",
    "decay = 1.0             # decay of inertia\n",
    "\n",
    "particles = initialize_particles(img, num_particles, [x_max, y_max, max_radius])\n",
    "optim = ParticleSwarmOptimizer(num_particles, max_iterations, c1, c2, w, decay, stop_iterations)\n",
    "best_position, best_fitness, _ = optim.optimize(img, particles, [x_max, y_max, max_radius])\n",
    "\n",
    "if SAVE_TXTS:\n",
    "    save_txt(os.path.join(txt_dir, f\"{prefix}{start_frame}.txt\"), estimated_params=best_position, type='circle')\n",
    "\n",
    "# show the estimated circle\n",
    "filename = os.path.join(out_dir, f\"{prefix}_{0}.png\") if SAVE_IMGS else None\n",
    "plot_estimation(img, best_position, title=f\"Frame {0}\", save_filename=filename, est_type='circle')\n",
    "\n",
    "start_frame += 1"
   ]
  },
  {
   "attachments": {},
   "cell_type": "markdown",
   "metadata": {},
   "source": [
    "### Next Frames: Use the estimated parameters from the previous frame as prior knowledge"
   ]
  },
  {
   "cell_type": "code",
   "execution_count": 5,
   "metadata": {},
   "outputs": [
    {
     "name": "stderr",
     "output_type": "stream",
     "text": [
      "100%|██████████| 599/599 [02:29<00:00,  4.01it/s]\n"
     ]
    }
   ],
   "source": [
    "num_particles = 20\n",
    "max_iterations = 100\n",
    "stop_iterations = 10     # stop if no improvement after these iterations\n",
    "c1 = 0.4                # cognitive parameter\n",
    "c2 = 1.0                # social parameter\n",
    "w  = 0.7                # inertia weight\n",
    "decay = 0.97            # decay of inertia\n",
    "\n",
    "for i in tqdm(range(start_frame, end_frame)):\n",
    "    w  = 0.7\n",
    "    img = cv2.imread(os.path.join(in_dir, f\"{prefix}{i}.png\"))\n",
    "    img = cv2.cvtColor(img, cv2.COLOR_BGR2GRAY)\n",
    "    y_max, x_max = img.shape[:2]\n",
    "    max_radius = min(x_max, y_max) / 2\n",
    "\n",
    "    particles = initialize_particles(img, num_particles, [x_max, y_max, max_radius])\n",
    "    init_fitness = evaluate_fitness(img, best_position)\n",
    "    optim = ParticleSwarmOptimizer(num_particles, max_iterations, c1, c2, w, decay, stop_iterations, best_position, init_fitness)\n",
    "    best_position, best_fitness, _ = optim.optimize(img, particles, [x_max, y_max, max_radius])\n",
    "\n",
    "    # save the estimated circle parameters and/or the preprocessed image\n",
    "    if SAVE_TXTS:\n",
    "        save_txt(os.path.join(txt_dir, f\"{prefix}{i}.txt\"), estimated_params=best_position, type='circle')\n",
    "    if SAVE_IMGS:\n",
    "        filename = os.path.join(out_dir, f\"{prefix}_{0}.png\")\n",
    "        plot_estimation(img, best_position, title=f\"Frame {i}\", save_filename=filename, show=False, est_type='circle')"
   ]
  },
  {
   "cell_type": "code",
   "execution_count": 6,
   "metadata": {},
   "outputs": [],
   "source": [
    "# you can also make a video from the saved images if you saved them (but they need to be alone in the directory)\n",
    "if SAVE_IMGS:\n",
    "    make_video(out_dir, prefix, fps=30, width=1158, height=921)"
   ]
  }
 ],
 "metadata": {
  "kernelspec": {
   "display_name": "hy472",
   "language": "python",
   "name": "python3"
  },
  "language_info": {
   "codemirror_mode": {
    "name": "ipython",
    "version": 3
   },
   "file_extension": ".py",
   "mimetype": "text/x-python",
   "name": "python",
   "nbconvert_exporter": "python",
   "pygments_lexer": "ipython3",
   "version": "3.10.9"
  },
  "orig_nbformat": 4
 },
 "nbformat": 4,
 "nbformat_minor": 2
}
